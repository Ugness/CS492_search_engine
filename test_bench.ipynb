{
 "cells": [
  {
   "attachments": {},
   "cell_type": "markdown",
   "metadata": {},
   "source": [
    "# Import Modules"
   ]
  },
  {
   "cell_type": "code",
   "execution_count": 1,
   "metadata": {},
   "outputs": [
    {
     "name": "stderr",
     "output_type": "stream",
     "text": [
      "/opt/conda/lib/python3.10/site-packages/tqdm/auto.py:22: TqdmWarning: IProgress not found. Please update jupyter and ipywidgets. See https://ipywidgets.readthedocs.io/en/stable/user_install.html\n",
      "  from .autonotebook import tqdm as notebook_tqdm\n"
     ]
    }
   ],
   "source": [
    "import torch\n",
    "import numpy\n",
    "import pickle"
   ]
  },
  {
   "attachments": {},
   "cell_type": "markdown",
   "metadata": {},
   "source": [
    "# Utility functions for generating dataset"
   ]
  },
  {
   "cell_type": "code",
   "execution_count": 2,
   "metadata": {},
   "outputs": [],
   "source": [
    "import random\n",
    "\n",
    "# Generate a random operator (+ or -)\n",
    "def get_operator():\n",
    "    return random.choice(['+'])\n",
    "\n",
    "# Generate a random coefficient (1-9)\n",
    "def get_coeff():\n",
    "    return random.randint(1, 9)\n",
    "\n",
    "# Generate a random order (0-3) x*x*x\n",
    "def get_order():\n",
    "    return random.randint(0, 3)\n",
    "\n",
    "# Generate a formulation with 5 terms\n",
    "def get_formulation(n_terms=5):\n",
    "    formulation = []\n",
    "    for i in range(n_terms):\n",
    "        term = (get_operator(), get_coeff(), get_order())\n",
    "        formulation.append(term)\n",
    "    return formulation\n",
    "\n",
    "def term2str(term):\n",
    "    operator, coeff, order = term\n",
    "    term_str = ''\n",
    "    term_str += operator\n",
    "    term_str += str(coeff)\n",
    "    order_repr = random.randint(0, order)\n",
    "    order_repr = (order_repr, order - order_repr)\n",
    "    pow_first = random.randint(0, 1)\n",
    "    if pow_first:\n",
    "        term_str += '*x'\n",
    "        term_str += '^'\n",
    "        term_str += str(order_repr[0])\n",
    "        term_str += '*x' * order_repr[1]\n",
    "    else:\n",
    "        term_str += '*x' * order_repr[1]\n",
    "        term_str += '*x'\n",
    "        term_str += '^'\n",
    "        term_str += str(order_repr[0])\n",
    "    return term_str\n",
    "\n",
    "\n",
    "def formulation2str(formulation):\n",
    "    formulation_str = ''\n",
    "    for term in formulation:\n",
    "        formulation_str += term2str(term)\n",
    "    return formulation_str[1:]\n",
    "\n",
    "def aggregate_formulation(formulation):\n",
    "    aggregated_formulation = []\n",
    "    # sort formulation by order\n",
    "    formulation.sort(key=lambda x: x[2], reverse=True)\n",
    "    # aggregate formulation\n",
    "    for term in formulation:\n",
    "        operator, coeff, order = term\n",
    "        if aggregated_formulation:\n",
    "            if aggregated_formulation[-1][2] == order:\n",
    "                aggregated_formulation[-1] = (operator, aggregated_formulation[-1][1] + coeff, order)\n",
    "            else:\n",
    "                aggregated_formulation.append(term)\n",
    "        else:\n",
    "            aggregated_formulation.append(term)\n",
    "    return aggregated_formulation\n",
    "\n",
    "def formulation2abvstr(aggregated_formulation):\n",
    "    formulation_str = ''\n",
    "    for term in aggregated_formulation:\n",
    "        operator, coeff, order = term\n",
    "        if coeff == 0:\n",
    "            continue\n",
    "        formulation_str += operator\n",
    "        formulation_str += str(coeff)\n",
    "        if order > 0:\n",
    "            formulation_str += '*x'\n",
    "            formulation_str += '^'\n",
    "            formulation_str += str(order)\n",
    "    return formulation_str[1:]"
   ]
  },
  {
   "attachments": {},
   "cell_type": "markdown",
   "metadata": {},
   "source": [
    "### Debug whether the output of formulations before and after the aggregation is the same"
   ]
  },
  {
   "cell_type": "code",
   "execution_count": 24,
   "metadata": {},
   "outputs": [],
   "source": [
    "# Code for debugging\n",
    "\n",
    "formulations = []\n",
    "for i in range(1000):\n",
    "    formulation = get_formulation()\n",
    "    formulation_str = formulation2str(formulation)\n",
    "    aggregated_formulation = aggregate_formulation(formulation)\n",
    "    aggregated_formulation_str = formulation2abvstr(aggregated_formulation)\n",
    "    formulations.append((formulation_str, aggregated_formulation_str))\n",
    "# for formulation in formulations:\n",
    "    # print(formulation)\n",
    "\n",
    "def eval_str(formulation_str, x):\n",
    "    return eval(formulation_str.replace('x', str(x)).replace('^', '**'))\n",
    "\n",
    "for formulation in formulations:\n",
    "    formulation_str, aggregated_formulation_str = formulation\n",
    "    for x in range(0, 10):\n",
    "        assert eval_str(formulation_str, x) == eval_str(aggregated_formulation_str, x), f'{formulation_str, aggregated_formulation_str, x}'"
   ]
  },
  {
   "attachments": {},
   "cell_type": "markdown",
   "metadata": {},
   "source": [
    "# Create dataset"
   ]
  },
  {
   "cell_type": "code",
   "execution_count": 8,
   "metadata": {},
   "outputs": [],
   "source": [
    "def create_samples(formulation_str):\n",
    "    return [(x, eval_str(formulation_str, x) % 10) for x in range(1, 10)]\n",
    "\n",
    "def create_database(n=1000000, n_terms=5):\n",
    "    # database is a dictionary of formulation_abvstr -> samples\n",
    "    # this function returns a list of (formulation_str, formulation_abvstr) and a dictionary of formulation_abvstr -> samples\n",
    "    formulations = []\n",
    "    database = {}\n",
    "    for i in range(n):\n",
    "        formulation = get_formulation(n_terms)\n",
    "        formulation_str = formulation2str(formulation)\n",
    "        aggregated_formulation = aggregate_formulation(formulation)\n",
    "        aggregated_formulation_str = formulation2abvstr(aggregated_formulation)\n",
    "        formulations.append((formulation_str, aggregated_formulation_str))\n",
    "        if aggregated_formulation_str not in database:\n",
    "            database[aggregated_formulation_str] = create_samples(formulation_str)\n",
    "    return formulations, database"
   ]
  },
  {
   "cell_type": "code",
   "execution_count": 26,
   "metadata": {},
   "outputs": [],
   "source": [
    "dataset = create_database()\n",
    "# with open('data/dataset.pkl', 'wb') as f:\n",
    "    # pickle.dump(dataset, f)"
   ]
  },
  {
   "cell_type": "code",
   "execution_count": null,
   "metadata": {},
   "outputs": [],
   "source": [
    "formulations, database = dataset"
   ]
  },
  {
   "cell_type": "code",
   "execution_count": null,
   "metadata": {},
   "outputs": [
    {
     "name": "stdout",
     "output_type": "stream",
     "text": [
      "1000 63209\n"
     ]
    }
   ],
   "source": [
    "print(len(formulations), len(database))"
   ]
  },
  {
   "attachments": {},
   "cell_type": "markdown",
   "metadata": {},
   "source": [
    "# debug all the samples in the saved file"
   ]
  },
  {
   "cell_type": "code",
   "execution_count": 23,
   "metadata": {},
   "outputs": [],
   "source": [
    "for formulation_str, formulation_abvstr in formulations:\n",
    "    assert formulation_abvstr in database\n",
    "    assert (eval_str(formulation_str, 1)%10) == database[formulation_abvstr][0][1]\n",
    "    assert (eval_str(formulation_str, 2)%10) == database[formulation_abvstr][1][1]\n",
    "    assert (eval_str(formulation_str, 3)%10) == database[formulation_abvstr][2][1]\n",
    "    assert (eval_str(formulation_str, 4)%10) == database[formulation_abvstr][3][1]\n",
    "    assert (eval_str(formulation_str, 5)%10) == database[formulation_abvstr][4][1]\n",
    "    assert (eval_str(formulation_str, 6)%10) == database[formulation_abvstr][5][1]\n",
    "    assert (eval_str(formulation_str, 7)%10) == database[formulation_abvstr][6][1]\n",
    "    assert (eval_str(formulation_str, 8)%10) == database[formulation_abvstr][7][1]\n",
    "    assert (eval_str(formulation_str, 9)%10) == database[formulation_abvstr][8][1]"
   ]
  }
 ],
 "metadata": {
  "kernelspec": {
   "display_name": "base",
   "language": "python",
   "name": "python3"
  },
  "language_info": {
   "codemirror_mode": {
    "name": "ipython",
    "version": 3
   },
   "file_extension": ".py",
   "mimetype": "text/x-python",
   "name": "python",
   "nbconvert_exporter": "python",
   "pygments_lexer": "ipython3",
   "version": "3.10.8"
  },
  "orig_nbformat": 4
 },
 "nbformat": 4,
 "nbformat_minor": 2
}
