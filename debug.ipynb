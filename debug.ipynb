{
 "cells": [
  {
   "cell_type": "code",
   "execution_count": 1,
   "metadata": {},
   "outputs": [
    {
     "name": "stderr",
     "output_type": "stream",
     "text": [
      "/opt/conda/lib/python3.10/site-packages/tqdm/auto.py:22: TqdmWarning: IProgress not found. Please update jupyter and ipywidgets. See https://ipywidgets.readthedocs.io/en/stable/user_install.html\n",
      "  from .autonotebook import tqdm as notebook_tqdm\n"
     ]
    }
   ],
   "source": [
    "%load_ext autoreload\n",
    "%autoreload 2\n",
    "from data.dataloader import get_tokenizer\n",
    "from model.model import GPT\n",
    "from data.utils import Trie\n",
    "import pickle\n",
    "import numpy as np \n",
    "import torch\n",
    "\n",
    "from data.dataloader import SearchData\n",
    "from torch.utils.data import DataLoader\n",
    "from model.env import Env"
   ]
  },
  {
   "cell_type": "code",
   "execution_count": 2,
   "metadata": {},
   "outputs": [],
   "source": [
    "tokenizer = get_tokenizer()\n",
    "actor = GPT(tokenizer=tokenizer, vocab_size=len(tokenizer), block_size=100).cuda()\n",
    "reader = GPT(tokenizer=tokenizer, vocab_size=len(tokenizer), block_size=100).cuda()\n",
    "reader_pt = torch.load('checkpoints/baseline/gt_0.001/baseline_23.pt')\n",
    "reader.load_state_dict(reader_pt)\n",
    "optimizer = torch.optim.Adam(actor.parameters(), lr=1e-3)\n"
   ]
  },
  {
   "cell_type": "code",
   "execution_count": 3,
   "metadata": {},
   "outputs": [],
   "source": [
    "with open('data/trie.pkl', 'rb') as f:\n",
    "    trie = pickle.load(f)\n",
    "with open('data/dataset.pkl', 'rb') as f:\n",
    "    dataset = pickle.load(f)\n",
    "    _, database = dataset"
   ]
  },
  {
   "cell_type": "code",
   "execution_count": 4,
   "metadata": {},
   "outputs": [],
   "source": [
    "dataset = SearchData('data/train.pkl', tokenizer)\n",
    "loader = DataLoader(dataset, batch_size=32, shuffle=True, num_workers=0)"
   ]
  },
  {
   "cell_type": "code",
   "execution_count": 5,
   "metadata": {},
   "outputs": [],
   "source": [
    "env = Env(reader, database, trie, tokenizer, max_len=100).cuda()"
   ]
  },
  {
   "cell_type": "code",
   "execution_count": 8,
   "metadata": {},
   "outputs": [],
   "source": [
    "from train_rl import train_policy_gradient\n",
    "from torch.utils.tensorboard import SummaryWriter\n",
    "writer = SummaryWriter('runs/debugv2')"
   ]
  },
  {
   "cell_type": "code",
   "execution_count": 9,
   "metadata": {},
   "outputs": [
    {
     "name": "stderr",
     "output_type": "stream",
     "text": []
    },
    {
     "ename": "KeyboardInterrupt",
     "evalue": "",
     "output_type": "error",
     "traceback": [
      "\u001b[0;31m---------------------------------------------------------------------------\u001b[0m",
      "\u001b[0;31mKeyboardInterrupt\u001b[0m                         Traceback (most recent call last)",
      "Cell \u001b[0;32mIn[9], line 1\u001b[0m\n\u001b[0;32m----> 1\u001b[0m train_policy_gradient(actor, optimizer, loader, env, writer\u001b[39m=\u001b[39;49mwriter, reward_type\u001b[39m=\u001b[39;49m\u001b[39m'\u001b[39;49m\u001b[39mce\u001b[39;49m\u001b[39m'\u001b[39;49m, gamma\u001b[39m=\u001b[39;49m\u001b[39m0.9\u001b[39;49m)\n",
      "File \u001b[0;32m/home/wogns98/CS492_search_engine/train_rl.py:90\u001b[0m, in \u001b[0;36mtrain_policy_gradient\u001b[0;34m(act_model, act_opt, train_loader, env, gamma, temperature, top_k, top_p, writer, reward_type)\u001b[0m\n\u001b[1;32m     88\u001b[0m rewards \u001b[39m=\u001b[39m []\n\u001b[1;32m     89\u001b[0m terminates \u001b[39m=\u001b[39m []\n\u001b[0;32m---> 90\u001b[0m \u001b[39mwhile\u001b[39;00m \u001b[39mnot\u001b[39;00m done\u001b[39m.\u001b[39;49mall():\n\u001b[1;32m     91\u001b[0m     action_logits, action_probs, log_prob, action \u001b[39m=\u001b[39m act_model\u001b[39m.\u001b[39mpredict(obs, indices, current_nodes, env\u001b[39m.\u001b[39mtrie,\n\u001b[1;32m     92\u001b[0m                                                                       temperature, top_k, top_p)\n\u001b[1;32m     93\u001b[0m     terminates\u001b[39m.\u001b[39mappend(done) \u001b[39m# to compute loss properly.\u001b[39;00m\n",
      "\u001b[0;31mKeyboardInterrupt\u001b[0m: "
     ]
    }
   ],
   "source": [
    "train_policy_gradient(actor, optimizer, loader, env, writer=writer, reward_type='ce', gamma=0.9)"
   ]
  },
  {
   "cell_type": "code",
   "execution_count": 12,
   "metadata": {},
   "outputs": [
    {
     "name": "stderr",
     "output_type": "stream",
     "text": [
      "Episode 878: reward=-2.2637, policy_loss=0.0012, accuracy=0.0625:  35%|███▌      | 878/2500 [04:30<08:01,  3.37it/s] "
     ]
    }
   ],
   "source": [
    "from train_rl import train_policy_gradient_iterative\n",
    "actor = GPT(tokenizer=tokenizer, vocab_size=len(tokenizer), block_size=100).cuda()\n",
    "reader = GPT(tokenizer=tokenizer, vocab_size=len(tokenizer), block_size=100).cuda()\n",
    "optimizer = torch.optim.Adam(actor.parameters(), lr=1e-3)\n",
    "env = Env(reader, database, trie, tokenizer, max_len=100).cuda()\n",
    "env_opt = torch.optim.Adam(reader.parameters(), lr=1e-3)\n",
    "\n",
    "writer = SummaryWriter('runs/pg_acc_iterative')\n",
    "train_policy_gradient_iterative(actor, optimizer, env_opt, loader, env, writer=writer, reward_type='acc', gamma=0.9)"
   ]
  },
  {
   "cell_type": "code",
   "execution_count": null,
   "metadata": {},
   "outputs": [],
   "source": []
  }
 ],
 "metadata": {
  "kernelspec": {
   "display_name": "base",
   "language": "python",
   "name": "python3"
  },
  "language_info": {
   "codemirror_mode": {
    "name": "ipython",
    "version": 3
   },
   "file_extension": ".py",
   "mimetype": "text/x-python",
   "name": "python",
   "nbconvert_exporter": "python",
   "pygments_lexer": "ipython3",
   "version": "3.10.8"
  },
  "orig_nbformat": 4
 },
 "nbformat": 4,
 "nbformat_minor": 2
}
