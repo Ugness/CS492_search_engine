{
 "cells": [
  {
   "attachments": {},
   "cell_type": "markdown",
   "metadata": {},
   "source": [
    "# Import Modules"
   ]
  },
  {
   "cell_type": "code",
   "execution_count": 1,
   "metadata": {},
   "outputs": [
    {
     "name": "stderr",
     "output_type": "stream",
     "text": [
      "/opt/conda/lib/python3.10/site-packages/tqdm/auto.py:22: TqdmWarning: IProgress not found. Please update jupyter and ipywidgets. See https://ipywidgets.readthedocs.io/en/stable/user_install.html\n",
      "  from .autonotebook import tqdm as notebook_tqdm\n"
     ]
    }
   ],
   "source": [
    "import torch\n",
    "import numpy\n",
    "import pickle"
   ]
  },
  {
   "attachments": {},
   "cell_type": "markdown",
   "metadata": {},
   "source": [
    "# Utility functions for generating dataset"
   ]
  },
  {
   "cell_type": "code",
   "execution_count": 2,
   "metadata": {},
   "outputs": [],
   "source": [
    "import random\n",
    "\n",
    "# Generate a random operator (+ or -)\n",
    "def get_operator():\n",
    "    return random.choice(['+'])\n",
    "\n",
    "# Generate a random coefficient (0-9)\n",
    "def get_coeff():\n",
    "    return random.randint(0, 9)\n",
    "\n",
    "# Generate a random order (0-3) x*x*x\n",
    "def get_order():\n",
    "    return random.randint(0, 3)\n",
    "\n",
    "# Generate a formulation with 5 terms\n",
    "def get_formulation(n_terms=5):\n",
    "    formulation = []\n",
    "    for i in range(n_terms):\n",
    "        term = (get_operator(), get_coeff(), get_order())\n",
    "        formulation.append(term)\n",
    "    return formulation\n",
    "\n",
    "def term2str(term):\n",
    "    operator, coeff, order = term\n",
    "    term_str = ''\n",
    "    term_str += operator\n",
    "    term_str += str(coeff)\n",
    "    order_repr = random.randint(0, order)\n",
    "    order_repr = (order_repr, order - order_repr)\n",
    "    pow_first = random.randint(0, 1)\n",
    "    if pow_first:\n",
    "        term_str += '*x'\n",
    "        term_str += '^'\n",
    "        term_str += str(order_repr[0])\n",
    "        term_str += '*x' * order_repr[1]\n",
    "    else:\n",
    "        term_str += '*x' * order_repr[1]\n",
    "        term_str += '*x'\n",
    "        term_str += '^'\n",
    "        term_str += str(order_repr[0])\n",
    "    return term_str\n",
    "\n",
    "\n",
    "def formulation2str(formulation):\n",
    "    formulation_str = ''\n",
    "    for term in formulation:\n",
    "        formulation_str += term2str(term)\n",
    "    return formulation_str[1:]\n",
    "\n",
    "def aggregate_formulation(formulation):\n",
    "    aggregated_formulation = []\n",
    "    # sort formulation by order\n",
    "    formulation.sort(key=lambda x: x[2], reverse=True)\n",
    "    # aggregate formulation\n",
    "    for term in formulation:\n",
    "        operator, coeff, order = term\n",
    "        if aggregated_formulation:\n",
    "            if aggregated_formulation[-1][2] == order:\n",
    "                aggregated_formulation[-1] = (operator, aggregated_formulation[-1][1] + coeff, order)\n",
    "            else:\n",
    "                aggregated_formulation.append(term)\n",
    "        else:\n",
    "            aggregated_formulation.append(term)\n",
    "    return aggregated_formulation\n",
    "\n",
    "def formulation2abvstr(aggregated_formulation):\n",
    "    formulation_str = ''\n",
    "    for term in aggregated_formulation:\n",
    "        operator, coeff, order = term\n",
    "        formulation_str += operator\n",
    "        formulation_str += str(coeff)\n",
    "        if order > 0:\n",
    "            formulation_str += '*x'\n",
    "            formulation_str += '^'\n",
    "            formulation_str += str(order)\n",
    "    return formulation_str[1:]"
   ]
  },
  {
   "attachments": {},
   "cell_type": "markdown",
   "metadata": {},
   "source": [
    "### Debug whether the output of formulations before and after the aggregation is the same"
   ]
  },
  {
   "cell_type": "code",
   "execution_count": 3,
   "metadata": {},
   "outputs": [],
   "source": [
    "# Code for debugging\n",
    "\n",
    "formulations = []\n",
    "for i in range(1000):\n",
    "    formulation = get_formulation()\n",
    "    formulation_str = formulation2str(formulation)\n",
    "    aggregated_formulation = aggregate_formulation(formulation)\n",
    "    aggregated_formulation_str = formulation2abvstr(aggregated_formulation)\n",
    "    formulations.append((formulation_str, aggregated_formulation_str))\n",
    "# for formulation in formulations:\n",
    "    # print(formulation)\n",
    "\n",
    "def eval_str(formulation_str, x):\n",
    "    return eval(formulation_str.replace('x', str(x)).replace('^', '**'))\n",
    "\n",
    "for formulation in formulations:\n",
    "    formulation_str, aggregated_formulation_str = formulation\n",
    "    for x in range(0, 10):\n",
    "        assert eval_str(formulation_str, x) == eval_str(aggregated_formulation_str, x), f'{formulation_str, aggregated_formulation_str, x}'"
   ]
  },
  {
   "attachments": {},
   "cell_type": "markdown",
   "metadata": {},
   "source": [
    "# Create dataset"
   ]
  },
  {
   "cell_type": "code",
   "execution_count": 4,
   "metadata": {},
   "outputs": [],
   "source": [
    "def create_samples(formulation_str):\n",
    "    return [eval_str(formulation_str, x) % 10 for x in range(0, 10)]\n",
    "\n",
    "def create_database(n=1000000, n_terms=5):\n",
    "    # database is a dictionary of formulation_abvstr -> samples\n",
    "    # this function returns a list of (formulation_str, formulation_abvstr) and a dictionary of formulation_abvstr -> samples\n",
    "    formulations = []\n",
    "    database = {}\n",
    "    for i in range(n):\n",
    "        formulation = get_formulation(n_terms)\n",
    "        formulation_str = formulation2str(formulation)\n",
    "        aggregated_formulation = aggregate_formulation(formulation)\n",
    "        aggregated_formulation_str = formulation2abvstr(aggregated_formulation)\n",
    "        formulations.append((formulation_str, aggregated_formulation_str))\n",
    "        if aggregated_formulation_str not in database:\n",
    "            database[aggregated_formulation_str] = create_samples(formulation_str)\n",
    "    return formulations, database"
   ]
  },
  {
   "cell_type": "code",
   "execution_count": 5,
   "metadata": {},
   "outputs": [],
   "source": [
    "dataset = create_database()\n",
    "with open('data/dataset.pkl', 'wb') as f:\n",
    "    pickle.dump(dataset, f)"
   ]
  },
  {
   "cell_type": "code",
   "execution_count": 6,
   "metadata": {},
   "outputs": [],
   "source": [
    "with open('data/dataset.pkl', 'rb') as f:\n",
    "    dataset = pickle.load(f)\n",
    "\n",
    "formulations, database = dataset"
   ]
  },
  {
   "cell_type": "code",
   "execution_count": 7,
   "metadata": {},
   "outputs": [
    {
     "name": "stdout",
     "output_type": "stream",
     "text": [
      "1000000 78272\n"
     ]
    }
   ],
   "source": [
    "print(len(formulations), len(database))"
   ]
  },
  {
   "attachments": {},
   "cell_type": "markdown",
   "metadata": {},
   "source": [
    "# debug all the samples in the saved file"
   ]
  },
  {
   "cell_type": "code",
   "execution_count": 8,
   "metadata": {},
   "outputs": [],
   "source": [
    "for formulation_str, formulation_abvstr in formulations:\n",
    "    assert formulation_abvstr in database\n",
    "    assert (eval_str(formulation_str, 0)%10) == database[formulation_abvstr][0]\n",
    "    assert (eval_str(formulation_str, 1)%10) == database[formulation_abvstr][1]\n",
    "    assert (eval_str(formulation_str, 2)%10) == database[formulation_abvstr][2]\n",
    "    assert (eval_str(formulation_str, 3)%10) == database[formulation_abvstr][3]\n",
    "    assert (eval_str(formulation_str, 4)%10) == database[formulation_abvstr][4]\n",
    "    assert (eval_str(formulation_str, 5)%10) == database[formulation_abvstr][5]\n",
    "    assert (eval_str(formulation_str, 6)%10) == database[formulation_abvstr][6]\n",
    "    assert (eval_str(formulation_str, 7)%10) == database[formulation_abvstr][7]\n",
    "    assert (eval_str(formulation_str, 8)%10) == database[formulation_abvstr][8]\n",
    "    assert (eval_str(formulation_str, 9)%10) == database[formulation_abvstr][9]"
   ]
  },
  {
   "attachments": {},
   "cell_type": "markdown",
   "metadata": {},
   "source": [
    "# Create a Tokenizer.\n",
    "* 0-9\n",
    "* '+' '*' '^' 'x'"
   ]
  },
  {
   "cell_type": "code",
   "execution_count": 9,
   "metadata": {},
   "outputs": [],
   "source": [
    "from data.dataloader import get_tokenizer"
   ]
  },
  {
   "cell_type": "code",
   "execution_count": 10,
   "metadata": {},
   "outputs": [],
   "source": [
    "tokenizer = get_tokenizer()"
   ]
  },
  {
   "cell_type": "code",
   "execution_count": 11,
   "metadata": {},
   "outputs": [],
   "source": [
    "# encoded = tokenizer(formulation[0], padding='max_length', max_length=60, truncation=True, return_tensors='pt')\n",
    "# encoded.input_ids.shape"
   ]
  },
  {
   "attachments": {},
   "cell_type": "markdown",
   "metadata": {},
   "source": [
    "# Create tokenized dataset\n",
    "1. load pkl\n",
    "2. save dataset of [full_str, abv_str, ys, x, y, full_tok, abv_tok, ys_tok, x_tok]"
   ]
  },
  {
   "cell_type": "code",
   "execution_count": 12,
   "metadata": {},
   "outputs": [],
   "source": [
    "with open('data/dataset.pkl', 'rb') as f:\n",
    "        data = pickle.load(f)\n",
    "        forms, database = data"
   ]
  },
  {
   "cell_type": "code",
   "execution_count": 13,
   "metadata": {},
   "outputs": [
    {
     "name": "stderr",
     "output_type": "stream",
     "text": [
      "100%|██████████| 1000000/1000000 [03:54<00:00, 4265.89it/s]\n"
     ]
    }
   ],
   "source": [
    "from tqdm import tqdm\n",
    "dataset = []\n",
    "for full, abv in tqdm(forms):\n",
    "    ys = database[abv]\n",
    "    x = random.randint(0, 9)\n",
    "    y = ys[x]\n",
    "\n",
    "    # append tokenized ones\n",
    "    full_tok = tokenizer(full, padding=False, return_tensors='np', add_special_tokens=False).input_ids[0]\n",
    "    abv_tok = tokenizer(abv, padding=False, return_tensors='np', add_special_tokens=False).input_ids[0]\n",
    "    ys_tok = tokenizer(''.join([str(i) for i in ys]), padding=False, return_tensors='np', add_special_tokens=False).input_ids[0]\n",
    "    x_tok = tokenizer(str(x), padding=False, return_tensors='np', add_special_tokens=False).input_ids[0]\n",
    "\n",
    "    data = [full, abv, ys, x, y, full_tok, abv_tok, ys_tok, x_tok]\n",
    "    dataset.append(data)"
   ]
  },
  {
   "cell_type": "code",
   "execution_count": 14,
   "metadata": {},
   "outputs": [
    {
     "name": "stdout",
     "output_type": "stream",
     "text": [
      "8*x*x*x*x^0+9*x^1*x+4*x^0+3*x^0+9*x^1\n",
      "8*x^3+9*x^2+9*x^1+7\n",
      "[7, 3, 5, 1, 9, 7, 3, 5, 1, 9]\n",
      "3\n",
      "1\n",
      "[14  3  5  3  5  3  5  3  5  4  6  1 15  3  5  4  7  3  5  1 10  3  5  4\n",
      "  6  1  9  3  5  4  6  1 15  3  5  4  7]\n",
      "[14  3  5  4  9  1 15  3  5  4  8  1 15  3  5  4  7  1 13]\n",
      "[13  9 11  7 15 13  9 11  7 15]\n",
      "[9]\n",
      "8*x*x*x*x^0+9*x^1*x+4*x^0+3*x^0+9*x^1\n",
      "8*x^3+9*x^2+9*x^1+7\n"
     ]
    }
   ],
   "source": [
    "print(full)\n",
    "print(abv)\n",
    "print(ys)\n",
    "print(x)\n",
    "print(y)\n",
    "print(full_tok)\n",
    "print(abv_tok)\n",
    "print(ys_tok)\n",
    "print(x_tok)\n",
    "\n",
    "print(tokenizer.decode(full_tok, skip_special_tokens=False).replace(' ', ''))\n",
    "print(tokenizer.decode(abv_tok, skip_special_tokens=False).replace(' ', ''))"
   ]
  },
  {
   "cell_type": "code",
   "execution_count": 15,
   "metadata": {},
   "outputs": [],
   "source": [
    "with open('data/tokenized_dataset.pkl', 'wb') as f:\n",
    "    pickle.dump(dataset, f)"
   ]
  },
  {
   "attachments": {},
   "cell_type": "markdown",
   "metadata": {},
   "source": [
    "# Create token Trie and save"
   ]
  },
  {
   "cell_type": "code",
   "execution_count": 16,
   "metadata": {},
   "outputs": [],
   "source": [
    "from data.utils import Trie\n",
    "with open('data/tokenized_dataset.pkl', 'rb') as f:\n",
    "    dataset = pickle.load(f)\n",
    "\n",
    "identifiers = []\n",
    "checker = set()\n",
    "\n",
    "for full, abv, ys, x, y, full_tok, abv_tok, ys_tok, x_tok in dataset:\n",
    "    abv_tok = abv_tok.tolist()\n",
    "    abv_tok.append(tokenizer.eos_token_id)\n",
    "    if abv not in checker:\n",
    "        checker.add(abv)\n",
    "        identifiers.append(abv_tok)\n"
   ]
  },
  {
   "cell_type": "code",
   "execution_count": 18,
   "metadata": {},
   "outputs": [],
   "source": [
    "trie = Trie(tokenizer)\n",
    "for key in identifiers:\n",
    "    trie.insert(key)"
   ]
  },
  {
   "cell_type": "code",
   "execution_count": null,
   "metadata": {},
   "outputs": [],
   "source": [
    "with open('data/trie.pkl', 'wb') as f:\n",
    "    pickle.dump(trie, f)"
   ]
  },
  {
   "cell_type": "code",
   "execution_count": null,
   "metadata": {},
   "outputs": [],
   "source": [
    "import matplotlib.pyplot as plt\n",
    "\n",
    "def visualize_trie(trie):\n",
    "    fig, ax = plt.subplots()\n",
    "    ax.set_axis_off()\n",
    "\n",
    "    def add_node(node, x, y, parent_x, parent_y, char):\n",
    "        if node.is_end_of_word:\n",
    "            circle = plt.Circle((x, y), radius=0.2, fill=False)\n",
    "            ax.add_artist(circle)\n",
    "            ax.text(x+0.2, y+0.2, char, ha='center', va='center')\n",
    "        else:\n",
    "            circle = plt.Circle((x, y), radius=0.05, fill=True)\n",
    "            ax.add_artist(circle)\n",
    "            ax.text(x+0.2, y+0.2, char, ha='center', va='center')\n",
    "        if parent_x is not None and parent_y is not None:\n",
    "            ax.plot([parent_x, x], [parent_y, y], 'k-')\n",
    "        child_x = x - (len(node.children) - 1) / 2\n",
    "        for child_char, child_node in node.children.items():\n",
    "            add_node(child_node, child_x, y-1, x, y, child_char)\n",
    "            child_x += 1\n",
    "\n",
    "    add_node(trie.root, 0, 0, None, None, '')\n",
    "    plt.show()"
   ]
  },
  {
   "cell_type": "code",
   "execution_count": null,
   "metadata": {},
   "outputs": [
    {
     "data": {
      "image/png": "[encoded data removed]",
      "text/plain": [
       "<Figure size 640x480 with 1 Axes>"
      ]
     },
     "metadata": {},
     "output_type": "display_data"
    }
   ],
   "source": [
    "visualize_trie(trie)"
   ]
  },
  {
   "attachments": {},
   "cell_type": "markdown",
   "metadata": {},
   "source": [
    "# split dataset into train, val, test"
   ]
  },
  {
   "cell_type": "code",
   "execution_count": 2,
   "metadata": {},
   "outputs": [],
   "source": [
    "with open('data/tokenized_dataset.pkl', 'rb') as f:\n",
    "    dataset = pickle.load(f)\n",
    "\n",
    "import random\n",
    "random.shuffle(dataset)\n",
    "\n",
    "dataset = dataset[:100000]\n",
    "\n",
    "train = dataset[:int(len(dataset)*0.8)]\n",
    "val = dataset[int(len(dataset)*0.8):int(len(dataset)*0.9)]\n",
    "test = dataset[int(len(dataset)*0.9):]"
   ]
  },
  {
   "cell_type": "code",
   "execution_count": 3,
   "metadata": {},
   "outputs": [],
   "source": [
    "# save each split\n",
    "with open('data/train.pkl', 'wb') as f:\n",
    "    pickle.dump(train, f)\n",
    "with open('data/val.pkl', 'wb') as f:\n",
    "    pickle.dump(val, f)\n",
    "with open('data/test.pkl', 'wb') as f:\n",
    "    pickle.dump(test, f)"
   ]
  },
  {
   "cell_type": "code",
   "execution_count": null,
   "metadata": {},
   "outputs": [],
   "source": []
  }
 ],
 "metadata": {
  "kernelspec": {
   "display_name": "base",
   "language": "python",
   "name": "python3"
  },
  "language_info": {
   "codemirror_mode": {
    "name": "ipython",
    "version": 3
   },
   "file_extension": ".py",
   "mimetype": "text/x-python",
   "name": "python",
   "nbconvert_exporter": "python",
   "pygments_lexer": "ipython3",
   "version": "3.10.8"
  },
  "orig_nbformat": 4
 },
 "nbformat": 4,
 "nbformat_minor": 2
}
